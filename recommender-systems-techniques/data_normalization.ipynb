{
 "cells": [
  {
   "cell_type": "markdown",
   "metadata": {},
   "source": [
    "## Normalization Process\n"
   ]
  },
  {
   "cell_type": "markdown",
   "metadata": {},
   "source": [
    "### General Lib"
   ]
  },
  {
   "cell_type": "code",
   "execution_count": 1,
   "metadata": {},
   "outputs": [],
   "source": [
    "import pandas as pd\n",
    "import re\n",
    "import numpy as np\n",
    "import contractions\n",
    "\n",
    "\n",
    "# Print longer cells in pd\n",
    "pd.options.display.max_colwidth = 1000\n",
    "pd.options.display.width = 10000\n",
    "# Print all rows\n",
    "pd.options.display.max_rows = None\n",
    "pd.options.display.max_columns = 1000"
   ]
  },
  {
   "cell_type": "markdown",
   "metadata": {},
   "source": [
    "### Normalization Lib"
   ]
  },
  {
   "cell_type": "code",
   "execution_count": 2,
   "metadata": {},
   "outputs": [
    {
     "name": "stderr",
     "output_type": "stream",
     "text": [
      "[nltk_data] Downloading package stopwords to\n",
      "[nltk_data]     C:\\Users\\ngpbm\\AppData\\Roaming\\nltk_data...\n",
      "[nltk_data]   Package stopwords is already up-to-date!\n",
      "[nltk_data] Downloading package wordnet to\n",
      "[nltk_data]     C:\\Users\\ngpbm\\AppData\\Roaming\\nltk_data...\n",
      "[nltk_data]   Package wordnet is already up-to-date!\n",
      "[nltk_data] Downloading package punkt_tab to\n",
      "[nltk_data]     C:\\Users\\ngpbm\\AppData\\Roaming\\nltk_data...\n",
      "[nltk_data]   Package punkt_tab is already up-to-date!\n",
      "[nltk_data] Downloading package averaged_perceptron_tagger_eng to\n",
      "[nltk_data]     C:\\Users\\ngpbm\\AppData\\Roaming\\nltk_data...\n",
      "[nltk_data]   Package averaged_perceptron_tagger_eng is already up-to-\n",
      "[nltk_data]       date!\n"
     ]
    }
   ],
   "source": [
    "# ”#$%&'()*+,-./:;?@[\\]^_`{|}~\n",
    "# string.punctuation\n",
    "import string\n",
    "\n",
    "# i'm\n",
    "import contractions\n",
    "\n",
    "# i, am, he, she, on, at\n",
    "import nltk\n",
    "nltk.download('stopwords')\n",
    "\n",
    "# for stopwords\n",
    "from nltk.corpus import stopwords\n",
    "nltk.download('wordnet')\n",
    "\n",
    "# for pos_tag\n",
    "nltk.download('punkt_tab') \n",
    "nltk.download('averaged_perceptron_tagger_eng')\n",
    "from nltk.tag import pos_tag\n",
    "from nltk.tokenize import word_tokenize\n",
    "\n",
    "# english\n",
    "stopwords = stopwords.words('english')\n",
    "stopwords.append(\"\\'s\")\n",
    "#importing the Stemming function from nltk library\n",
    "from nltk.stem import WordNetLemmatizer\n",
    "#defining the object for stemming\n",
    "# stemmer = PorterStemmer()\n",
    "lemmatizer = WordNetLemmatizer()\n",
    "\n",
    "# stem instead of lemmanize because simple, interested - interesting similar\n",
    "# lemma instead of stem because of nlp word2vec word embedding"
   ]
  },
  {
   "cell_type": "markdown",
   "metadata": {},
   "source": [
    "### Normalization Functions"
   ]
  },
  {
   "cell_type": "code",
   "execution_count": 3,
   "metadata": {},
   "outputs": [],
   "source": [
    "# contraction\n",
    "# lowercase\n",
    "# tokenization i am -> ['i','am']\n",
    "# POS_tag\n",
    "# remove punctuation\n",
    "# remove stop words i, will, am, he, a, an, the..., && numbers && Adv\n",
    "# lemmanization\n",
    "\n",
    "# Helper function to map POS tag to WordNet POS\n",
    "def get_wordnet_pos(tag):\n",
    "    if tag.startswith('J'):  # Adjective\n",
    "        return 'a'\n",
    "    elif tag.startswith('V'):  # Verb\n",
    "        return 'v'\n",
    "    elif tag.startswith('N'):  # Noun\n",
    "        return 'n'\n",
    "    elif tag.startswith('R'):  # Adverb\n",
    "        return 'r'\n",
    "    else:\n",
    "        return None\n",
    "\n",
    "def stop_words_removal_then_lemmatize(pos_tags):\n",
    "    processed_tokens = []\n",
    "    for word, tag in pos_tags:\n",
    "        #check punctuation                          stopwords               digits\n",
    "        if word not in string.punctuation and word not in stopwords and not re.search(r'\\d', word):\n",
    "            # if tag not in ['JJ', 'JJR', 'JJS', 'RB', 'RBR', 'RBS']:  # Remove adjectives & adverbs\n",
    "            if tag not in ['RB', 'RBR', 'RBS']:  # Remove adverbs\n",
    "                pos = get_wordnet_pos(tag)\n",
    "                lemma = lemmatizer.lemmatize(word, pos) if pos else lemmatizer.lemmatize(word)\n",
    "                processed_tokens.append(lemma)\n",
    "                # print(f\"{word}, {tag}\")\n",
    "    return processed_tokens\n",
    "\n",
    "\n",
    "def normalize_tokenize(str):\n",
    "    str = contractions.fix(str)\n",
    "    str = str.lower()\n",
    "\n",
    "    tokens = word_tokenize(str)\n",
    "    pos_tags = pos_tag(tokens)\n",
    "\n",
    "    processed_tokens = stop_words_removal_then_lemmatize(pos_tags)\n",
    "    \n",
    "    return processed_tokens"
   ]
  },
  {
   "cell_type": "markdown",
   "metadata": {},
   "source": [
    "### Normalize User Preference"
   ]
  },
  {
   "cell_type": "code",
   "execution_count": 4,
   "metadata": {},
   "outputs": [
    {
     "data": {
      "text/html": [
       "<div>\n",
       "<style scoped>\n",
       "    .dataframe tbody tr th:only-of-type {\n",
       "        vertical-align: middle;\n",
       "    }\n",
       "\n",
       "    .dataframe tbody tr th {\n",
       "        vertical-align: top;\n",
       "    }\n",
       "\n",
       "    .dataframe thead th {\n",
       "        text-align: right;\n",
       "    }\n",
       "</style>\n",
       "<table border=\"1\" class=\"dataframe\">\n",
       "  <thead>\n",
       "    <tr style=\"text-align: right;\">\n",
       "      <th></th>\n",
       "      <th>preference</th>\n",
       "    </tr>\n",
       "  </thead>\n",
       "  <tbody>\n",
       "    <tr>\n",
       "      <th>0</th>\n",
       "      <td>I’m interested in a Master of Science in Computer Science, ideally in Berlin, where I can gain exposure to cutting-edge AI technologies.</td>\n",
       "    </tr>\n",
       "    <tr>\n",
       "      <th>1</th>\n",
       "      <td>A Master of Arts in Business Administration with an international focus would align perfectly with my career goals in global management.</td>\n",
       "    </tr>\n",
       "    <tr>\n",
       "      <th>2</th>\n",
       "      <td>I’m looking for a Master of Science in Environmental Science in Hamburg, especially one that emphasizes sustainability and climate research.</td>\n",
       "    </tr>\n",
       "  </tbody>\n",
       "</table>\n",
       "</div>"
      ],
      "text/plain": [
       "                                                                                                                                     preference\n",
       "0      I’m interested in a Master of Science in Computer Science, ideally in Berlin, where I can gain exposure to cutting-edge AI technologies.\n",
       "1      A Master of Arts in Business Administration with an international focus would align perfectly with my career goals in global management.\n",
       "2  I’m looking for a Master of Science in Environmental Science in Hamburg, especially one that emphasizes sustainability and climate research."
      ]
     },
     "execution_count": 4,
     "metadata": {},
     "output_type": "execute_result"
    }
   ],
   "source": [
    "# Load user preference data\n",
    "user_pref_df = pd.read_csv(\"../user_preferences.csv\")\n",
    "user_pref_df.head(3)"
   ]
  },
  {
   "cell_type": "code",
   "execution_count": null,
   "metadata": {},
   "outputs": [],
   "source": [
    "user_pref_df['normalize_tokenize'] = user_pref_df['preference'].apply(lambda x: normalize_tokenize(x))\n",
    "user_pref_df.head(3)\n",
    "\n"
   ]
  },
  {
   "cell_type": "markdown",
   "metadata": {},
   "source": [
    "### Normalize University Data "
   ]
  },
  {
   "cell_type": "code",
   "execution_count": 6,
   "metadata": {},
   "outputs": [
    {
     "data": {
      "text/html": [
       "<div>\n",
       "<style scoped>\n",
       "    .dataframe tbody tr th:only-of-type {\n",
       "        vertical-align: middle;\n",
       "    }\n",
       "\n",
       "    .dataframe tbody tr th {\n",
       "        vertical-align: top;\n",
       "    }\n",
       "\n",
       "    .dataframe thead th {\n",
       "        text-align: right;\n",
       "    }\n",
       "</style>\n",
       "<table border=\"1\" class=\"dataframe\">\n",
       "  <thead>\n",
       "    <tr style=\"text-align: right;\">\n",
       "      <th></th>\n",
       "      <th>program_name</th>\n",
       "      <th>program_url</th>\n",
       "      <th>university</th>\n",
       "      <th>location</th>\n",
       "      <th>duration</th>\n",
       "      <th>degreeType</th>\n",
       "      <th>language</th>\n",
       "      <th>subject</th>\n",
       "      <th>studyMode</th>\n",
       "      <th>admission_Modus</th>\n",
       "      <th>admission_Requirements</th>\n",
       "      <th>overview</th>\n",
       "      <th>teaching</th>\n",
       "      <th>researching</th>\n",
       "    </tr>\n",
       "  </thead>\n",
       "  <tbody>\n",
       "    <tr>\n",
       "      <th>100</th>\n",
       "      <td>Aesthetics and Media Science</td>\n",
       "      <td>http://www.uni-oldenburg.de/nc/studium/studiengang/?id_studg=312</td>\n",
       "      <td>University of Oldenburg</td>\n",
       "      <td>Oldenburg</td>\n",
       "      <td>4 semesters</td>\n",
       "      <td>Master of Arts</td>\n",
       "      <td>German</td>\n",
       "      <td>Art Studies</td>\n",
       "      <td>full time</td>\n",
       "      <td>without admission restriction</td>\n",
       "      <td>1. Bachelor's degree or equivalent degree in the field of Arts and Media Studies or another subject-specific degree program2. at least 30 credit points for subject-related and didactic content.more information regarding admission requirements. Bachelor/Bakkalaureus</td>\n",
       "      <td>NaN</td>\n",
       "      <td>NaN</td>\n",
       "      <td>NaN</td>\n",
       "    </tr>\n",
       "    <tr>\n",
       "      <th>3000</th>\n",
       "      <td>Economics</td>\n",
       "      <td>https://www.uni-heidelberg.de/de/studium/alle-studienfaecher/economicspolitische-oekonomik/wirtschaftswissenschaft-teilstudiengang-im-master-education</td>\n",
       "      <td>Heidelberg University</td>\n",
       "      <td>Heidelberg</td>\n",
       "      <td>4 semesters</td>\n",
       "      <td>Master of Education</td>\n",
       "      <td>German</td>\n",
       "      <td>Economic Sciences, Economics</td>\n",
       "      <td>full time</td>\n",
       "      <td>without admission restriction</td>\n",
       "      <td>Admission restrictions, see admission regulations\\;more information regarding admission requirements. Bachelor/Bakkalaureus</td>\n",
       "      <td>NaN</td>\n",
       "      <td>NaN</td>\n",
       "      <td>NaN</td>\n",
       "    </tr>\n",
       "    <tr>\n",
       "      <th>8000</th>\n",
       "      <td>Physics</td>\n",
       "      <td>https://www.zsb.uni-wuppertal.de/studieninfos/studieninfos/master/physik-msc.html</td>\n",
       "      <td>University of Wuppertal</td>\n",
       "      <td>Wuppertal</td>\n",
       "      <td>4 semesters</td>\n",
       "      <td>Master of Science</td>\n",
       "      <td>German</td>\n",
       "      <td>Physics</td>\n",
       "      <td>full time</td>\n",
       "      <td>without admission restriction</td>\n",
       "      <td>Bachelor of Science' or equivalent degree in the Physics course or in a course recognised as equivalent at an institute of higher education in thearea of validity of Germany's Basic Law at least with the grade Satisfactory (3.0) orhas acquired a 'Bachelor of Science' or equivalent degree in the Physics course or in a course recognised as equivalent at an institute of higher education without or outside the area of validity of Germany's Basic Law anda) oral entrance exam lasting 20 to 40 minutes orb) the Graduate Record Examinations Subject (GRE) Test in Physics. Bachelor/Bakkalaureus(and other qualifications, provided that they are recognised as being equivalent)</td>\n",
       "      <td>NaN</td>\n",
       "      <td>NaN</td>\n",
       "      <td>NaN</td>\n",
       "    </tr>\n",
       "  </tbody>\n",
       "</table>\n",
       "</div>"
      ],
      "text/plain": [
       "                      program_name                                                                                                                                             program_url               university    location     duration           degreeType language                       subject  studyMode                admission_Modus                                                                                                                                                                                                                                                                                                                                                                                                                                                                                                                                                                                                                                                                           admission_Requirements overview teaching researching\n",
       "100   Aesthetics and Media Science                                                                                        http://www.uni-oldenburg.de/nc/studium/studiengang/?id_studg=312  University of Oldenburg   Oldenburg  4 semesters       Master of Arts   German                   Art Studies  full time  without admission restriction                                                                                                                                                                                                                                                                                                                                                                                                                        1. Bachelor's degree or equivalent degree in the field of Arts and Media Studies or another subject-specific degree program2. at least 30 credit points for subject-related and didactic content.more information regarding admission requirements. Bachelor/Bakkalaureus      NaN      NaN         NaN\n",
       "3000                     Economics  https://www.uni-heidelberg.de/de/studium/alle-studienfaecher/economicspolitische-oekonomik/wirtschaftswissenschaft-teilstudiengang-im-master-education    Heidelberg University  Heidelberg  4 semesters  Master of Education   German  Economic Sciences, Economics  full time  without admission restriction                                                                                                                                                                                                                                                                                                                                                                                                                                                                                                                                                                      Admission restrictions, see admission regulations\\;more information regarding admission requirements. Bachelor/Bakkalaureus      NaN      NaN         NaN\n",
       "8000                       Physics                                                                       https://www.zsb.uni-wuppertal.de/studieninfos/studieninfos/master/physik-msc.html  University of Wuppertal   Wuppertal  4 semesters    Master of Science   German                       Physics  full time  without admission restriction  Bachelor of Science' or equivalent degree in the Physics course or in a course recognised as equivalent at an institute of higher education in thearea of validity of Germany's Basic Law at least with the grade Satisfactory (3.0) orhas acquired a 'Bachelor of Science' or equivalent degree in the Physics course or in a course recognised as equivalent at an institute of higher education without or outside the area of validity of Germany's Basic Law anda) oral entrance exam lasting 20 to 40 minutes orb) the Graduate Record Examinations Subject (GRE) Test in Physics. Bachelor/Bakkalaureus(and other qualifications, provided that they are recognised as being equivalent)      NaN      NaN         NaN"
      ]
     },
     "execution_count": 6,
     "metadata": {},
     "output_type": "execute_result"
    }
   ],
   "source": [
    "university_df = pd.read_csv(\"../university_data.csv\")\n",
    "university_df.iloc[[100, 3000, 8000]]"
   ]
  },
  {
   "cell_type": "code",
   "execution_count": null,
   "metadata": {},
   "outputs": [],
   "source": [
    "# merge: omit url, duration, admission1&2 from merge (no need)\n",
    "university_df['merge_raw'] = university_df[university_df.columns[[0,2,3,5,6,7,8,11,12,13]]].apply(\n",
    "    lambda x: '. '.join(x.dropna().astype(str)), axis=1\n",
    ")\n",
    "university_df['merge_normalize_tokenize'] = university_df['merge_raw'].apply(lambda x: normalize_tokenize(x))\n",
    "university_df['merge_normalize_tokenize'].head(3)\n",
    "\n"
   ]
  },
  {
   "cell_type": "code",
   "execution_count": null,
   "metadata": {},
   "outputs": [],
   "source": [
    "user_pref_df.to_csv(\"../user_preferences_normalized.csv\", index=False)\n",
    "university_df.to_csv(\"../university_data_normalized.csv\", index=False)"
   ]
  }
 ],
 "metadata": {
  "kernelspec": {
   "display_name": "myenv",
   "language": "python",
   "name": "python3"
  },
  "language_info": {
   "codemirror_mode": {
    "name": "ipython",
    "version": 3
   },
   "file_extension": ".py",
   "mimetype": "text/x-python",
   "name": "python",
   "nbconvert_exporter": "python",
   "pygments_lexer": "ipython3",
   "version": "3.10.12"
  }
 },
 "nbformat": 4,
 "nbformat_minor": 2
}
