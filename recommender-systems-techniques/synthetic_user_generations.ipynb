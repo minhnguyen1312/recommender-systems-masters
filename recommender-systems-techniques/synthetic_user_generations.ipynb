{
 "cells": [
  {
   "cell_type": "markdown",
   "metadata": {
    "id": "-7WlDyF9f7So"
   },
   "source": [
    "# Get Synthetic Users' Preference"
   ]
  },
  {
   "cell_type": "code",
   "execution_count": 4,
   "metadata": {
    "id": "4PPzBukenCBa"
   },
   "outputs": [
    {
     "data": {
      "text/plain": [
       "True"
      ]
     },
     "execution_count": 4,
     "metadata": {},
     "output_type": "execute_result"
    }
   ],
   "source": [
    "from openai import OpenAI\n",
    "import os\n",
    "import pandas as pd\n",
    "from dotenv import load_dotenv\n",
    "load_dotenv()"
   ]
  },
  {
   "cell_type": "code",
   "execution_count": 5,
   "metadata": {},
   "outputs": [],
   "source": [
    "client = OpenAI(\n",
    "    # This is the default and can be omitted\n",
    "    api_key=os.getenv('API_KEY')\n",
    ")"
   ]
  },
  {
   "cell_type": "code",
   "execution_count": null,
   "metadata": {
    "id": "_aCTZttEUsi7"
   },
   "outputs": [],
   "source": [
    "N = 75\n",
    "\n",
    "prompt = f'''\n",
    "Imagine you're a student exploring master's programs in Germany. Write a variety of natural-sounding statements that reflect your interests, aspirations, and potential constraints. Each statement must include either a specific program name (e.g., 'Computer Science'), a general field of interest (e.g., 'engineering'), or a degree type (e.g., 'Master of Science'), and ideally both. However, allow for ambiguity in any of these details to reflect openness to various options.\n",
    "\n",
    "User Preferences:\n",
    "- Program Name: Include both specific programs (e.g., Computer Science) and general fields of interest (e.g., Engineering, Business). Allow for ambiguity by sometimes mentioning only the general area without specifying the exact program.\n",
    "- Location: Highlight a mix of prominent cities like Berlin, Hamburg, and Munich, as well as mid-sized university hubs like Freiburg or Göttingen. Encourage expressions of openness to multiple locations.\n",
    "- Degree Type: Include common options such as Master of Science, Master of Arts, and Master of Education, along with unique formats like modular programs, international courses, or accelerated degrees.\n",
    "- Language: Include programs taught in English and German, with occasional mentions of dual-language offerings or those tailored for non-native speakers.\n",
    "- Subject: Range from foundational areas (e.g., Engineering and Management) to interdisciplinary or emerging fields (e.g., Digital Transformation, Business Mathematics).\n",
    "- Study Mode: Include a balance of full-time, part-time, distance learning, and international study formats.\n",
    "\n",
    "Guidelines:\n",
    "Balance Preferences:\n",
    "- Ensure 75-80% of statements reflect popular preferences across program names, degrees, languages, and study modes.\n",
    "- Include 20-25% with emerging or niche preferences for variety without overemphasis.\n",
    "Introduce Ambiguity:\n",
    "- Encourage statements to express flexibility or openness in any aspect, including program name.\n",
    "- Allow some details to be unspecified or general to leave room for interpretation.\n",
    "Clarity and Simplicity:\n",
    "- Keep statements clear and concise, avoiding overly long sentences or excessive detail.\n",
    "Incorporate Aspirations:\n",
    "- Occasionally include career or academic goals, such as leadership opportunities, research prospects, or industry connections.\n",
    "Address Practical Constraints:\n",
    "- Reflect real-life considerations like affordability, work-life balance, or accessibility for international students.\n",
    "Diversity in Study Modes:\n",
    "- Ensure proportional inclusion of full-time, part-time, modular, and distance learning programs.\n",
    "Unique Degree Formats:\n",
    "- Highlight distinctive programs, such as accelerated degrees or industry-sponsored courses, where relevant.\n",
    "Global Relevance:\n",
    "- Mention international focus or globally recognized accreditations when appropriate.\n",
    "Personalization:\n",
    "- Make statements authentic and realistic by incorporating personal factors like financial considerations or lifestyle preferences.\n",
    "Task:\n",
    "Generate {N} statements that align with these guidelines. Ensure diversity, clarity, and relatability in the statements, focusing on popular and emerging options. Introduce ambiguity by expressing openness or flexibility in any preferences, including program names, by sometimes using general fields of interest or unspecified areas. Avoid overly niche or obscure topics while maintaining a realistic and personalized tone.\n",
    "Output should be without opening and closing statements and without numbering.\n",
    "'''\n"
   ]
  },
  {
   "cell_type": "code",
   "execution_count": 7,
   "metadata": {
    "colab": {
     "base_uri": "https://localhost:8080/",
     "height": 332
    },
    "id": "ITi9enE6mvPf",
    "outputId": "d3053e99-4b34-4fdd-b4f5-75006351657f"
   },
   "outputs": [],
   "source": [
    "response = client.chat.completions.create(\n",
    "    messages=[\n",
    "        {\n",
    "            \"role\": \"system\",\n",
    "            \"content\": \"You are an AI assistant that generates synthetic user preferences for master's programs.\"\n",
    "        },\n",
    "        {\n",
    "            \"role\": \"user\",\n",
    "            \"content\": prompt\n",
    "        }\n",
    "    ],\n",
    "    model=\"gpt-4o-mini\",\n",
    ")"
   ]
  },
  {
   "cell_type": "code",
   "execution_count": null,
   "metadata": {
    "colab": {
     "base_uri": "https://localhost:8080/"
    },
    "id": "zchd0cME15KO",
    "outputId": "7bb747ae-0805-41dd-abc5-c30408695e82"
   },
   "outputs": [],
   "source": [
    "output = response.choices[0].message.content\n",
    "synthetic_preferences = output.split('\\n')\n",
    "output_filepath = '../user_preferences.csv'\n",
    "\n",
    "# Clean up and print each preference\n",
    "synthetic_preferences = [each for each in synthetic_preferences if each]\n",
    "# print(synthetic_preferences)\n",
    "df = pd.DataFrame(synthetic_preferences, columns=['preference'])\n",
    "if not os.path.exists(output_filepath):\n",
    "    # Write with header if file doesn't exist\n",
    "    df.to_csv(output_filepath, mode='w', header=True, index=False)\n",
    "else:\n",
    "    # Append without header if file exists\n",
    "    df.to_csv(output_filepath, mode='a', header=False, index=False)"
   ]
  }
 ],
 "metadata": {
  "colab": {
   "collapsed_sections": [
    "a8zffuLGb4eV"
   ],
   "provenance": [],
   "toc_visible": true
  },
  "kernelspec": {
   "display_name": "myenv",
   "language": "python",
   "name": "python3"
  },
  "language_info": {
   "codemirror_mode": {
    "name": "ipython",
    "version": 3
   },
   "file_extension": ".py",
   "mimetype": "text/x-python",
   "name": "python",
   "nbconvert_exporter": "python",
   "pygments_lexer": "ipython3",
   "version": "3.10.12"
  }
 },
 "nbformat": 4,
 "nbformat_minor": 0
}
