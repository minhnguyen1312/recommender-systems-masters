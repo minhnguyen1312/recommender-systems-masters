{
 "cells": [
  {
   "cell_type": "markdown",
   "metadata": {},
   "source": [
    "# Clean the 'university.csv' file"
   ]
  },
  {
   "cell_type": "code",
   "execution_count": 11,
   "metadata": {},
   "outputs": [],
   "source": [
    "import pandas as pd\n",
    "import ast"
   ]
  },
  {
   "cell_type": "code",
   "execution_count": null,
   "metadata": {},
   "outputs": [],
   "source": [
    "with open ('../raw_uni_data.csv', 'r') as file:\n",
    "    df = pd.read_csv(file)\n",
    "    df.drop(['index'], axis=1, inplace=True)\n",
    "    df = df.map(lambda x: x.replace('', '-') if isinstance(x, str) else x)\n",
    "with open ('../university_data.csv', 'w', newline= '') as file:\n",
    "    df.to_csv(file, index=False)\n",
    "\n",
    "with open ('../user_preferences.csv', 'r', newline= '') as file:\n",
    "    df = pd.read_csv(file)\n",
    "with open ('../user_preferences.csv', 'w', newline= '') as file:\n",
    "    df.to_csv(file, index=False)\n"
   ]
  },
  {
   "cell_type": "code",
   "execution_count": null,
   "metadata": {},
   "outputs": [],
   "source": [
    "# convert last 3 col\n",
    "def convert_to_string(value):\n",
    "    try:\n",
    "        # Safely evaluate the string as a Python literal (e.g., list)\n",
    "        list_value = ast.literal_eval(value)\n",
    "        # Join the list into a single string\n",
    "        return ' '.join(list_value)\n",
    "    except (ValueError, SyntaxError):\n",
    "        # Return the original value if it cannot be evaluated\n",
    "        return value\n",
    "\n",
    "df['overview'] = df['overview'].apply(convert_to_string)\n",
    "df['teaching'] = df['teaching'].apply(convert_to_string)\n",
    "df['researching'] = df['researching'].apply(convert_to_string)\n",
    "with open ('../university_data.csv', 'w', newline= '') as file:\n",
    "    df.to_csv(file, index=False)"
   ]
  },
  {
   "cell_type": "code",
   "execution_count": 2,
   "metadata": {},
   "outputs": [],
   "source": [
    "# Load university data\n",
    "with open ('../university_data.csv', 'r') as file:\n",
    "    df = pd.read_csv(file)\n",
    "\n",
    "# Load user preference data\n",
    "# user_preferences = pd.read_csv(\"../user_preferences.csv\")"
   ]
  },
  {
   "cell_type": "code",
   "execution_count": null,
   "metadata": {},
   "outputs": [],
   "source": [
    "df.columns"
   ]
  },
  {
   "cell_type": "code",
   "execution_count": 10,
   "metadata": {},
   "outputs": [
    {
     "name": "stdout",
     "output_type": "stream",
     "text": [
      "['full time', 'full time; part time', 'full time; international course', 'part time degree programmes for professionals', 'full time; international course; part time', 'part time; part time degree programmes for professionals', 'distance studies; part time degree programmes for professionals', 'part time', 'distance studies; full time; part time; part time degree programmes for professionals']\n",
      "[]\n"
     ]
    }
   ],
   "source": [
    "# # fix duration\n",
    "print(df['studyMode'].value_counts().iloc[0:9].index.to_list())\n",
    "print(df['studyMode'].value_counts().iloc[100:109].index.to_list())"
   ]
  }
 ],
 "metadata": {
  "kernelspec": {
   "display_name": "myenv",
   "language": "python",
   "name": "python3"
  },
  "language_info": {
   "codemirror_mode": {
    "name": "ipython",
    "version": 3
   },
   "file_extension": ".py",
   "mimetype": "text/x-python",
   "name": "python",
   "nbconvert_exporter": "python",
   "pygments_lexer": "ipython3",
   "version": "3.10.12"
  }
 },
 "nbformat": 4,
 "nbformat_minor": 2
}
